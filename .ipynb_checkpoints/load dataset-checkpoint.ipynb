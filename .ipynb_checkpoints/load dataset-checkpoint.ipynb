{
 "cells": [
  {
   "cell_type": "code",
   "execution_count": 1,
   "id": "859ccd25-6335-41ce-b6e8-48b40730ee27",
   "metadata": {},
   "outputs": [],
   "source": [
    "import pandas as pd"
   ]
  },
  {
   "cell_type": "code",
   "execution_count": 3,
   "id": "56806628-91e1-424b-bc17-881197496576",
   "metadata": {},
   "outputs": [
    {
     "name": "stdout",
     "output_type": "stream",
     "text": [
      "   label                                            message\n",
      "0    ham         Hey! Are we still meeting for lunch today?\n",
      "1   spam  Congratulations! You've won a $1,000 Walmart g...\n",
      "2    ham    Don't forget to submit your assignment by 5 PM.\n",
      "3   spam  WINNER!! You have been selected for a free cru...\n",
      "4    ham                 Let's go for a movie this weekend.\n",
      "..   ...                                                ...\n",
      "95   ham   Please review the attachment and get back to me.\n",
      "96  spam       Your credit score just increased! Check now.\n",
      "97   ham   Please review the attachment and get back to me.\n",
      "98   ham               I'll send you the documents by 6 PM.\n",
      "99   ham         Don't forget your umbrella, it might rain.\n",
      "\n",
      "[100 rows x 2 columns]\n"
     ]
    }
   ],
   "source": [
    "load_dataset=pd.read_csv(r\"C:\\Users\\09aar\\Desktop\\SPAM DETECTOR-ML\\spam (1).csv\")\n",
    "print(load_dataset)"
   ]
  },
  {
   "cell_type": "code",
   "execution_count": 4,
   "id": "4452cc6c-9bc1-43d4-b7d6-89085bfddda6",
   "metadata": {},
   "outputs": [
    {
     "name": "stdout",
     "output_type": "stream",
     "text": [
      "    label                                            message\n",
      "0       0         Hey! Are we still meeting for lunch today?\n",
      "1       1  Congratulations! You've won a $1,000 Walmart g...\n",
      "2       0    Don't forget to submit your assignment by 5 PM.\n",
      "3       1  WINNER!! You have been selected for a free cru...\n",
      "4       0                 Let's go for a movie this weekend.\n",
      "..    ...                                                ...\n",
      "95      0   Please review the attachment and get back to me.\n",
      "96      1       Your credit score just increased! Check now.\n",
      "97      0   Please review the attachment and get back to me.\n",
      "98      0               I'll send you the documents by 6 PM.\n",
      "99      0         Don't forget your umbrella, it might rain.\n",
      "\n",
      "[100 rows x 2 columns]\n"
     ]
    }
   ],
   "source": [
    "from sklearn.preprocessing import LabelEncoder\n",
    "le=LabelEncoder()\n",
    "load_dataset[\"label\"]=le.fit_transform(load_dataset[\"label\"])          #LABEL ENCODING\n",
    "print(load_dataset)"
   ]
  },
  {
   "cell_type": "code",
   "execution_count": null,
   "id": "af39e2b5-0d90-4083-bfcc-58575310bed6",
   "metadata": {},
   "outputs": [],
   "source": []
  }
 ],
 "metadata": {
  "kernelspec": {
   "display_name": "Python 3 (ipykernel)",
   "language": "python",
   "name": "python3"
  },
  "language_info": {
   "codemirror_mode": {
    "name": "ipython",
    "version": 3
   },
   "file_extension": ".py",
   "mimetype": "text/x-python",
   "name": "python",
   "nbconvert_exporter": "python",
   "pygments_lexer": "ipython3",
   "version": "3.12.7"
  }
 },
 "nbformat": 4,
 "nbformat_minor": 5
}
